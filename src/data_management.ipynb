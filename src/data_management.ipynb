{
 "cells": [
  {
   "cell_type": "code",
   "execution_count": 1,
   "metadata": {
    "collapsed": true,
    "pycharm": {
     "name": "#%%\n"
    }
   },
   "outputs": [],
   "source": [
    "import pandas as pd\n",
    "import numpy as np\n",
    "from sklearn.datasets import load_diabetes, fetch_california_housing"
   ]
  },
  {
   "cell_type": "markdown",
   "source": [
    "# California housing"
   ],
   "metadata": {
    "collapsed": false,
    "pycharm": {
     "name": "#%% md\n"
    }
   }
  },
  {
   "cell_type": "code",
   "execution_count": 2,
   "outputs": [],
   "source": [
    "california_housing = fetch_california_housing(as_frame=True)"
   ],
   "metadata": {
    "collapsed": false,
    "pycharm": {
     "name": "#%%\n"
    }
   }
  },
  {
   "cell_type": "code",
   "execution_count": 3,
   "outputs": [
    {
     "name": "stdout",
     "output_type": "stream",
     "text": [
      ".. _california_housing_dataset:\n",
      "\n",
      "California Housing dataset\n",
      "--------------------------\n",
      "\n",
      "**Data Set Characteristics:**\n",
      "\n",
      "    :Number of Instances: 20640\n",
      "\n",
      "    :Number of Attributes: 8 numeric, predictive attributes and the target\n",
      "\n",
      "    :Attribute Information:\n",
      "        - MedInc        median income in block group\n",
      "        - HouseAge      median house age in block group\n",
      "        - AveRooms      average number of rooms per household\n",
      "        - AveBedrms     average number of bedrooms per household\n",
      "        - Population    block group population\n",
      "        - AveOccup      average number of household members\n",
      "        - Latitude      block group latitude\n",
      "        - Longitude     block group longitude\n",
      "\n",
      "    :Missing Attribute Values: None\n",
      "\n",
      "This dataset was obtained from the StatLib repository.\n",
      "https://www.dcc.fc.up.pt/~ltorgo/Regression/cal_housing.html\n",
      "\n",
      "The target variable is the median house value for California districts,\n",
      "expressed in hundreds of thousands of dollars ($100,000).\n",
      "\n",
      "This dataset was derived from the 1990 U.S. census, using one row per census\n",
      "block group. A block group is the smallest geographical unit for which the U.S.\n",
      "Census Bureau publishes sample data (a block group typically has a population\n",
      "of 600 to 3,000 people).\n",
      "\n",
      "An household is a group of people residing within a home. Since the average\n",
      "number of rooms and bedrooms in this dataset are provided per household, these\n",
      "columns may take surpinsingly large values for block groups with few households\n",
      "and many empty houses, such as vacation resorts.\n",
      "\n",
      "It can be downloaded/loaded using the\n",
      ":func:`sklearn.datasets.fetch_california_housing` function.\n",
      "\n",
      ".. topic:: References\n",
      "\n",
      "    - Pace, R. Kelley and Ronald Barry, Sparse Spatial Autoregressions,\n",
      "      Statistics and Probability Letters, 33 (1997) 291-297\n",
      "\n"
     ]
    }
   ],
   "source": [
    "print(california_housing.DESCR)"
   ],
   "metadata": {
    "collapsed": false,
    "pycharm": {
     "name": "#%%\n"
    }
   }
  },
  {
   "cell_type": "code",
   "execution_count": 4,
   "outputs": [],
   "source": [
    "df = california_housing['frame']"
   ],
   "metadata": {
    "collapsed": false,
    "pycharm": {
     "name": "#%%\n"
    }
   }
  },
  {
   "cell_type": "code",
   "execution_count": 5,
   "outputs": [
    {
     "data": {
      "text/plain": "   MedInc  HouseAge  AveRooms  AveBedrms  Population  AveOccup  Latitude  \\\n0  8.3252      41.0  6.984127   1.023810       322.0  2.555556     37.88   \n1  8.3014      21.0  6.238137   0.971880      2401.0  2.109842     37.86   \n2  7.2574      52.0  8.288136   1.073446       496.0  2.802260     37.85   \n3  5.6431      52.0  5.817352   1.073059       558.0  2.547945     37.85   \n4  3.8462      52.0  6.281853   1.081081       565.0  2.181467     37.85   \n\n   Longitude  MedHouseVal  \n0    -122.23        4.526  \n1    -122.22        3.585  \n2    -122.24        3.521  \n3    -122.25        3.413  \n4    -122.25        3.422  ",
      "text/html": "<div>\n<style scoped>\n    .dataframe tbody tr th:only-of-type {\n        vertical-align: middle;\n    }\n\n    .dataframe tbody tr th {\n        vertical-align: top;\n    }\n\n    .dataframe thead th {\n        text-align: right;\n    }\n</style>\n<table border=\"1\" class=\"dataframe\">\n  <thead>\n    <tr style=\"text-align: right;\">\n      <th></th>\n      <th>MedInc</th>\n      <th>HouseAge</th>\n      <th>AveRooms</th>\n      <th>AveBedrms</th>\n      <th>Population</th>\n      <th>AveOccup</th>\n      <th>Latitude</th>\n      <th>Longitude</th>\n      <th>MedHouseVal</th>\n    </tr>\n  </thead>\n  <tbody>\n    <tr>\n      <th>0</th>\n      <td>8.3252</td>\n      <td>41.0</td>\n      <td>6.984127</td>\n      <td>1.023810</td>\n      <td>322.0</td>\n      <td>2.555556</td>\n      <td>37.88</td>\n      <td>-122.23</td>\n      <td>4.526</td>\n    </tr>\n    <tr>\n      <th>1</th>\n      <td>8.3014</td>\n      <td>21.0</td>\n      <td>6.238137</td>\n      <td>0.971880</td>\n      <td>2401.0</td>\n      <td>2.109842</td>\n      <td>37.86</td>\n      <td>-122.22</td>\n      <td>3.585</td>\n    </tr>\n    <tr>\n      <th>2</th>\n      <td>7.2574</td>\n      <td>52.0</td>\n      <td>8.288136</td>\n      <td>1.073446</td>\n      <td>496.0</td>\n      <td>2.802260</td>\n      <td>37.85</td>\n      <td>-122.24</td>\n      <td>3.521</td>\n    </tr>\n    <tr>\n      <th>3</th>\n      <td>5.6431</td>\n      <td>52.0</td>\n      <td>5.817352</td>\n      <td>1.073059</td>\n      <td>558.0</td>\n      <td>2.547945</td>\n      <td>37.85</td>\n      <td>-122.25</td>\n      <td>3.413</td>\n    </tr>\n    <tr>\n      <th>4</th>\n      <td>3.8462</td>\n      <td>52.0</td>\n      <td>6.281853</td>\n      <td>1.081081</td>\n      <td>565.0</td>\n      <td>2.181467</td>\n      <td>37.85</td>\n      <td>-122.25</td>\n      <td>3.422</td>\n    </tr>\n  </tbody>\n</table>\n</div>"
     },
     "execution_count": 5,
     "metadata": {},
     "output_type": "execute_result"
    }
   ],
   "source": [
    "df.head()"
   ],
   "metadata": {
    "collapsed": false,
    "pycharm": {
     "name": "#%%\n"
    }
   }
  },
  {
   "cell_type": "code",
   "execution_count": 6,
   "outputs": [
    {
     "data": {
      "text/plain": "             MedInc      HouseAge      AveRooms     AveBedrms    Population  \\\ncount  20640.000000  20640.000000  20640.000000  20640.000000  20640.000000   \nmean       3.870671     28.639486      5.429000      1.096675   1425.476744   \nstd        1.899822     12.585558      2.474173      0.473911   1132.462122   \nmin        0.499900      1.000000      0.846154      0.333333      3.000000   \n25%        2.563400     18.000000      4.440716      1.006079    787.000000   \n50%        3.534800     29.000000      5.229129      1.048780   1166.000000   \n75%        4.743250     37.000000      6.052381      1.099526   1725.000000   \nmax       15.000100     52.000000    141.909091     34.066667  35682.000000   \n\n           AveOccup      Latitude     Longitude   MedHouseVal  \ncount  20640.000000  20640.000000  20640.000000  20640.000000  \nmean       3.070655     35.631861   -119.569704      2.068558  \nstd       10.386050      2.135952      2.003532      1.153956  \nmin        0.692308     32.540000   -124.350000      0.149990  \n25%        2.429741     33.930000   -121.800000      1.196000  \n50%        2.818116     34.260000   -118.490000      1.797000  \n75%        3.282261     37.710000   -118.010000      2.647250  \nmax     1243.333333     41.950000   -114.310000      5.000010  ",
      "text/html": "<div>\n<style scoped>\n    .dataframe tbody tr th:only-of-type {\n        vertical-align: middle;\n    }\n\n    .dataframe tbody tr th {\n        vertical-align: top;\n    }\n\n    .dataframe thead th {\n        text-align: right;\n    }\n</style>\n<table border=\"1\" class=\"dataframe\">\n  <thead>\n    <tr style=\"text-align: right;\">\n      <th></th>\n      <th>MedInc</th>\n      <th>HouseAge</th>\n      <th>AveRooms</th>\n      <th>AveBedrms</th>\n      <th>Population</th>\n      <th>AveOccup</th>\n      <th>Latitude</th>\n      <th>Longitude</th>\n      <th>MedHouseVal</th>\n    </tr>\n  </thead>\n  <tbody>\n    <tr>\n      <th>count</th>\n      <td>20640.000000</td>\n      <td>20640.000000</td>\n      <td>20640.000000</td>\n      <td>20640.000000</td>\n      <td>20640.000000</td>\n      <td>20640.000000</td>\n      <td>20640.000000</td>\n      <td>20640.000000</td>\n      <td>20640.000000</td>\n    </tr>\n    <tr>\n      <th>mean</th>\n      <td>3.870671</td>\n      <td>28.639486</td>\n      <td>5.429000</td>\n      <td>1.096675</td>\n      <td>1425.476744</td>\n      <td>3.070655</td>\n      <td>35.631861</td>\n      <td>-119.569704</td>\n      <td>2.068558</td>\n    </tr>\n    <tr>\n      <th>std</th>\n      <td>1.899822</td>\n      <td>12.585558</td>\n      <td>2.474173</td>\n      <td>0.473911</td>\n      <td>1132.462122</td>\n      <td>10.386050</td>\n      <td>2.135952</td>\n      <td>2.003532</td>\n      <td>1.153956</td>\n    </tr>\n    <tr>\n      <th>min</th>\n      <td>0.499900</td>\n      <td>1.000000</td>\n      <td>0.846154</td>\n      <td>0.333333</td>\n      <td>3.000000</td>\n      <td>0.692308</td>\n      <td>32.540000</td>\n      <td>-124.350000</td>\n      <td>0.149990</td>\n    </tr>\n    <tr>\n      <th>25%</th>\n      <td>2.563400</td>\n      <td>18.000000</td>\n      <td>4.440716</td>\n      <td>1.006079</td>\n      <td>787.000000</td>\n      <td>2.429741</td>\n      <td>33.930000</td>\n      <td>-121.800000</td>\n      <td>1.196000</td>\n    </tr>\n    <tr>\n      <th>50%</th>\n      <td>3.534800</td>\n      <td>29.000000</td>\n      <td>5.229129</td>\n      <td>1.048780</td>\n      <td>1166.000000</td>\n      <td>2.818116</td>\n      <td>34.260000</td>\n      <td>-118.490000</td>\n      <td>1.797000</td>\n    </tr>\n    <tr>\n      <th>75%</th>\n      <td>4.743250</td>\n      <td>37.000000</td>\n      <td>6.052381</td>\n      <td>1.099526</td>\n      <td>1725.000000</td>\n      <td>3.282261</td>\n      <td>37.710000</td>\n      <td>-118.010000</td>\n      <td>2.647250</td>\n    </tr>\n    <tr>\n      <th>max</th>\n      <td>15.000100</td>\n      <td>52.000000</td>\n      <td>141.909091</td>\n      <td>34.066667</td>\n      <td>35682.000000</td>\n      <td>1243.333333</td>\n      <td>41.950000</td>\n      <td>-114.310000</td>\n      <td>5.000010</td>\n    </tr>\n  </tbody>\n</table>\n</div>"
     },
     "execution_count": 6,
     "metadata": {},
     "output_type": "execute_result"
    }
   ],
   "source": [
    "df.describe()"
   ],
   "metadata": {
    "collapsed": false,
    "pycharm": {
     "name": "#%%\n"
    }
   }
  },
  {
   "cell_type": "markdown",
   "source": [
    "## Preprocess data"
   ],
   "metadata": {
    "collapsed": false,
    "pycharm": {
     "name": "#%% md\n"
    }
   }
  },
  {
   "cell_type": "code",
   "execution_count": 7,
   "outputs": [],
   "source": [
    "def standardize(x):\n",
    "    \"\"\"Standardize the original data set.\"\"\"\n",
    "    mean_x = np.mean(x)\n",
    "    std_x = np.std(x)\n",
    "    x = (x - mean_x) / std_x\n",
    "    return x"
   ],
   "metadata": {
    "collapsed": false,
    "pycharm": {
     "name": "#%%\n"
    }
   }
  },
  {
   "cell_type": "code",
   "execution_count": 8,
   "outputs": [],
   "source": [
    "# apply standardization to all but target column\n",
    "df.iloc[:, :-1] = df.iloc[:, :-1].apply(lambda x: standardize(x), axis=0)"
   ],
   "metadata": {
    "collapsed": false,
    "pycharm": {
     "name": "#%%\n"
    }
   }
  },
  {
   "cell_type": "code",
   "execution_count": 9,
   "outputs": [
    {
     "data": {
      "text/plain": "             MedInc      HouseAge      AveRooms     AveBedrms    Population  \\\ncount  2.064000e+04  2.064000e+04  2.064000e+04  2.064000e+04  2.064000e+04   \nmean  -2.522018e-14  5.878911e-16  4.640911e-15  5.519526e-15 -7.506747e-17   \nstd    1.000024e+00  1.000024e+00  1.000024e+00  1.000024e+00  1.000024e+00   \nmin   -1.774299e+00 -2.196180e+00 -1.852319e+00 -1.610768e+00 -1.256123e+00   \n25%   -6.881186e-01 -8.453931e-01 -3.994496e-01 -1.911716e-01 -5.638089e-01   \n50%   -1.767951e-01  2.864572e-02 -8.078489e-02 -1.010650e-01 -2.291318e-01   \n75%    4.593063e-01  6.643103e-01  2.519615e-01  6.015869e-03  2.644949e-01   \nmax    5.858286e+00  1.856182e+00  5.516324e+01  6.957171e+01  3.025033e+01   \n\n           AveOccup      Latitude     Longitude   MedHouseVal  \ncount  2.064000e+04  2.064000e+04  2.064000e+04  20640.000000  \nmean  -7.361326e-16 -8.068474e-14 -1.426325e-12      2.068558  \nstd    1.000024e+00  1.000024e+00  1.000024e+00      1.153956  \nmin   -2.290000e-01 -1.447568e+00 -2.385992e+00      0.149990  \n25%   -6.171062e-02 -7.967887e-01 -1.113209e+00      1.196000  \n50%   -2.431585e-02 -6.422871e-01  5.389137e-01      1.797000  \n75%    2.037453e-02  9.729566e-01  7.784964e-01      2.647250  \nmax    1.194191e+02  2.958068e+00  2.625280e+00      5.000010  ",
      "text/html": "<div>\n<style scoped>\n    .dataframe tbody tr th:only-of-type {\n        vertical-align: middle;\n    }\n\n    .dataframe tbody tr th {\n        vertical-align: top;\n    }\n\n    .dataframe thead th {\n        text-align: right;\n    }\n</style>\n<table border=\"1\" class=\"dataframe\">\n  <thead>\n    <tr style=\"text-align: right;\">\n      <th></th>\n      <th>MedInc</th>\n      <th>HouseAge</th>\n      <th>AveRooms</th>\n      <th>AveBedrms</th>\n      <th>Population</th>\n      <th>AveOccup</th>\n      <th>Latitude</th>\n      <th>Longitude</th>\n      <th>MedHouseVal</th>\n    </tr>\n  </thead>\n  <tbody>\n    <tr>\n      <th>count</th>\n      <td>2.064000e+04</td>\n      <td>2.064000e+04</td>\n      <td>2.064000e+04</td>\n      <td>2.064000e+04</td>\n      <td>2.064000e+04</td>\n      <td>2.064000e+04</td>\n      <td>2.064000e+04</td>\n      <td>2.064000e+04</td>\n      <td>20640.000000</td>\n    </tr>\n    <tr>\n      <th>mean</th>\n      <td>-2.522018e-14</td>\n      <td>5.878911e-16</td>\n      <td>4.640911e-15</td>\n      <td>5.519526e-15</td>\n      <td>-7.506747e-17</td>\n      <td>-7.361326e-16</td>\n      <td>-8.068474e-14</td>\n      <td>-1.426325e-12</td>\n      <td>2.068558</td>\n    </tr>\n    <tr>\n      <th>std</th>\n      <td>1.000024e+00</td>\n      <td>1.000024e+00</td>\n      <td>1.000024e+00</td>\n      <td>1.000024e+00</td>\n      <td>1.000024e+00</td>\n      <td>1.000024e+00</td>\n      <td>1.000024e+00</td>\n      <td>1.000024e+00</td>\n      <td>1.153956</td>\n    </tr>\n    <tr>\n      <th>min</th>\n      <td>-1.774299e+00</td>\n      <td>-2.196180e+00</td>\n      <td>-1.852319e+00</td>\n      <td>-1.610768e+00</td>\n      <td>-1.256123e+00</td>\n      <td>-2.290000e-01</td>\n      <td>-1.447568e+00</td>\n      <td>-2.385992e+00</td>\n      <td>0.149990</td>\n    </tr>\n    <tr>\n      <th>25%</th>\n      <td>-6.881186e-01</td>\n      <td>-8.453931e-01</td>\n      <td>-3.994496e-01</td>\n      <td>-1.911716e-01</td>\n      <td>-5.638089e-01</td>\n      <td>-6.171062e-02</td>\n      <td>-7.967887e-01</td>\n      <td>-1.113209e+00</td>\n      <td>1.196000</td>\n    </tr>\n    <tr>\n      <th>50%</th>\n      <td>-1.767951e-01</td>\n      <td>2.864572e-02</td>\n      <td>-8.078489e-02</td>\n      <td>-1.010650e-01</td>\n      <td>-2.291318e-01</td>\n      <td>-2.431585e-02</td>\n      <td>-6.422871e-01</td>\n      <td>5.389137e-01</td>\n      <td>1.797000</td>\n    </tr>\n    <tr>\n      <th>75%</th>\n      <td>4.593063e-01</td>\n      <td>6.643103e-01</td>\n      <td>2.519615e-01</td>\n      <td>6.015869e-03</td>\n      <td>2.644949e-01</td>\n      <td>2.037453e-02</td>\n      <td>9.729566e-01</td>\n      <td>7.784964e-01</td>\n      <td>2.647250</td>\n    </tr>\n    <tr>\n      <th>max</th>\n      <td>5.858286e+00</td>\n      <td>1.856182e+00</td>\n      <td>5.516324e+01</td>\n      <td>6.957171e+01</td>\n      <td>3.025033e+01</td>\n      <td>1.194191e+02</td>\n      <td>2.958068e+00</td>\n      <td>2.625280e+00</td>\n      <td>5.000010</td>\n    </tr>\n  </tbody>\n</table>\n</div>"
     },
     "execution_count": 9,
     "metadata": {},
     "output_type": "execute_result"
    }
   ],
   "source": [
    "df.describe()"
   ],
   "metadata": {
    "collapsed": false,
    "pycharm": {
     "name": "#%%\n"
    }
   }
  },
  {
   "cell_type": "code",
   "execution_count": 10,
   "outputs": [
    {
     "data": {
      "text/plain": "     MedInc  HouseAge  AveRooms  AveBedrms  Population  AveOccup  Latitude  \\\n0  2.344766  0.982143  0.628559  -0.153758   -0.974429 -0.049597  1.052548   \n1  2.332238 -0.607019  0.327041  -0.263336    0.861439 -0.092512  1.043185   \n2  1.782699  1.856182  1.155620  -0.049016   -0.820777 -0.025843  1.038503   \n3  0.932968  1.856182  0.156966  -0.049833   -0.766028 -0.050329  1.038503   \n4 -0.012881  1.856182  0.344711  -0.032906   -0.759847 -0.085616  1.038503   \n\n   Longitude  MedHouseVal  \n0  -1.327835        4.526  \n1  -1.322844        3.585  \n2  -1.332827        3.521  \n3  -1.337818        3.413  \n4  -1.337818        3.422  ",
      "text/html": "<div>\n<style scoped>\n    .dataframe tbody tr th:only-of-type {\n        vertical-align: middle;\n    }\n\n    .dataframe tbody tr th {\n        vertical-align: top;\n    }\n\n    .dataframe thead th {\n        text-align: right;\n    }\n</style>\n<table border=\"1\" class=\"dataframe\">\n  <thead>\n    <tr style=\"text-align: right;\">\n      <th></th>\n      <th>MedInc</th>\n      <th>HouseAge</th>\n      <th>AveRooms</th>\n      <th>AveBedrms</th>\n      <th>Population</th>\n      <th>AveOccup</th>\n      <th>Latitude</th>\n      <th>Longitude</th>\n      <th>MedHouseVal</th>\n    </tr>\n  </thead>\n  <tbody>\n    <tr>\n      <th>0</th>\n      <td>2.344766</td>\n      <td>0.982143</td>\n      <td>0.628559</td>\n      <td>-0.153758</td>\n      <td>-0.974429</td>\n      <td>-0.049597</td>\n      <td>1.052548</td>\n      <td>-1.327835</td>\n      <td>4.526</td>\n    </tr>\n    <tr>\n      <th>1</th>\n      <td>2.332238</td>\n      <td>-0.607019</td>\n      <td>0.327041</td>\n      <td>-0.263336</td>\n      <td>0.861439</td>\n      <td>-0.092512</td>\n      <td>1.043185</td>\n      <td>-1.322844</td>\n      <td>3.585</td>\n    </tr>\n    <tr>\n      <th>2</th>\n      <td>1.782699</td>\n      <td>1.856182</td>\n      <td>1.155620</td>\n      <td>-0.049016</td>\n      <td>-0.820777</td>\n      <td>-0.025843</td>\n      <td>1.038503</td>\n      <td>-1.332827</td>\n      <td>3.521</td>\n    </tr>\n    <tr>\n      <th>3</th>\n      <td>0.932968</td>\n      <td>1.856182</td>\n      <td>0.156966</td>\n      <td>-0.049833</td>\n      <td>-0.766028</td>\n      <td>-0.050329</td>\n      <td>1.038503</td>\n      <td>-1.337818</td>\n      <td>3.413</td>\n    </tr>\n    <tr>\n      <th>4</th>\n      <td>-0.012881</td>\n      <td>1.856182</td>\n      <td>0.344711</td>\n      <td>-0.032906</td>\n      <td>-0.759847</td>\n      <td>-0.085616</td>\n      <td>1.038503</td>\n      <td>-1.337818</td>\n      <td>3.422</td>\n    </tr>\n  </tbody>\n</table>\n</div>"
     },
     "execution_count": 10,
     "metadata": {},
     "output_type": "execute_result"
    }
   ],
   "source": [
    "df.head()"
   ],
   "metadata": {
    "collapsed": false,
    "pycharm": {
     "name": "#%%\n"
    }
   }
  },
  {
   "cell_type": "code",
   "execution_count": 11,
   "outputs": [],
   "source": [
    "df.to_csv('data/housing.csv', index=False)"
   ],
   "metadata": {
    "collapsed": false,
    "pycharm": {
     "name": "#%%\n"
    }
   }
  },
  {
   "cell_type": "markdown",
   "source": [
    "# Diabetes"
   ],
   "metadata": {
    "collapsed": false,
    "pycharm": {
     "name": "#%% md\n"
    }
   }
  },
  {
   "cell_type": "code",
   "execution_count": 12,
   "outputs": [],
   "source": [
    "diabetes = load_diabetes(as_frame=True)"
   ],
   "metadata": {
    "collapsed": false,
    "pycharm": {
     "name": "#%%\n"
    }
   }
  },
  {
   "cell_type": "code",
   "execution_count": 13,
   "outputs": [
    {
     "name": "stdout",
     "output_type": "stream",
     "text": [
      ".. _diabetes_dataset:\n",
      "\n",
      "Diabetes dataset\n",
      "----------------\n",
      "\n",
      "Ten baseline variables, age, sex, body mass index, average blood\n",
      "pressure, and six blood serum measurements were obtained for each of n =\n",
      "442 diabetes patients, as well as the response of interest, a\n",
      "quantitative measure of disease progression one year after baseline.\n",
      "\n",
      "**Data Set Characteristics:**\n",
      "\n",
      "  :Number of Instances: 442\n",
      "\n",
      "  :Number of Attributes: First 10 columns are numeric predictive values\n",
      "\n",
      "  :Target: Column 11 is a quantitative measure of disease progression one year after baseline\n",
      "\n",
      "  :Attribute Information:\n",
      "      - age     age in years\n",
      "      - sex\n",
      "      - bmi     body mass index\n",
      "      - bp      average blood pressure\n",
      "      - s1      tc, total serum cholesterol\n",
      "      - s2      ldl, low-density lipoproteins\n",
      "      - s3      hdl, high-density lipoproteins\n",
      "      - s4      tch, total cholesterol / HDL\n",
      "      - s5      ltg, possibly log of serum triglycerides level\n",
      "      - s6      glu, blood sugar level\n",
      "\n",
      "Note: Each of these 10 feature variables have been mean centered and scaled by the standard deviation times `n_samples` (i.e. the sum of squares of each column totals 1).\n",
      "\n",
      "Source URL:\n",
      "https://www4.stat.ncsu.edu/~boos/var.select/diabetes.html\n",
      "\n",
      "For more information see:\n",
      "Bradley Efron, Trevor Hastie, Iain Johnstone and Robert Tibshirani (2004) \"Least Angle Regression,\" Annals of Statistics (with discussion), 407-499.\n",
      "(https://web.stanford.edu/~hastie/Papers/LARS/LeastAngle_2002.pdf)\n"
     ]
    }
   ],
   "source": [
    "print(diabetes.DESCR)"
   ],
   "metadata": {
    "collapsed": false,
    "pycharm": {
     "name": "#%%\n"
    }
   }
  },
  {
   "cell_type": "code",
   "execution_count": 14,
   "outputs": [],
   "source": [
    "df = diabetes['frame']"
   ],
   "metadata": {
    "collapsed": false,
    "pycharm": {
     "name": "#%%\n"
    }
   }
  },
  {
   "cell_type": "code",
   "execution_count": 15,
   "outputs": [
    {
     "data": {
      "text/plain": "        age       sex       bmi        bp        s1        s2        s3  \\\n0  0.038076  0.050680  0.061696  0.021872 -0.044223 -0.034821 -0.043401   \n1 -0.001882 -0.044642 -0.051474 -0.026328 -0.008449 -0.019163  0.074412   \n2  0.085299  0.050680  0.044451 -0.005671 -0.045599 -0.034194 -0.032356   \n3 -0.089063 -0.044642 -0.011595 -0.036656  0.012191  0.024991 -0.036038   \n4  0.005383 -0.044642 -0.036385  0.021872  0.003935  0.015596  0.008142   \n\n         s4        s5        s6  target  \n0 -0.002592  0.019908 -0.017646   151.0  \n1 -0.039493 -0.068330 -0.092204    75.0  \n2 -0.002592  0.002864 -0.025930   141.0  \n3  0.034309  0.022692 -0.009362   206.0  \n4 -0.002592 -0.031991 -0.046641   135.0  ",
      "text/html": "<div>\n<style scoped>\n    .dataframe tbody tr th:only-of-type {\n        vertical-align: middle;\n    }\n\n    .dataframe tbody tr th {\n        vertical-align: top;\n    }\n\n    .dataframe thead th {\n        text-align: right;\n    }\n</style>\n<table border=\"1\" class=\"dataframe\">\n  <thead>\n    <tr style=\"text-align: right;\">\n      <th></th>\n      <th>age</th>\n      <th>sex</th>\n      <th>bmi</th>\n      <th>bp</th>\n      <th>s1</th>\n      <th>s2</th>\n      <th>s3</th>\n      <th>s4</th>\n      <th>s5</th>\n      <th>s6</th>\n      <th>target</th>\n    </tr>\n  </thead>\n  <tbody>\n    <tr>\n      <th>0</th>\n      <td>0.038076</td>\n      <td>0.050680</td>\n      <td>0.061696</td>\n      <td>0.021872</td>\n      <td>-0.044223</td>\n      <td>-0.034821</td>\n      <td>-0.043401</td>\n      <td>-0.002592</td>\n      <td>0.019908</td>\n      <td>-0.017646</td>\n      <td>151.0</td>\n    </tr>\n    <tr>\n      <th>1</th>\n      <td>-0.001882</td>\n      <td>-0.044642</td>\n      <td>-0.051474</td>\n      <td>-0.026328</td>\n      <td>-0.008449</td>\n      <td>-0.019163</td>\n      <td>0.074412</td>\n      <td>-0.039493</td>\n      <td>-0.068330</td>\n      <td>-0.092204</td>\n      <td>75.0</td>\n    </tr>\n    <tr>\n      <th>2</th>\n      <td>0.085299</td>\n      <td>0.050680</td>\n      <td>0.044451</td>\n      <td>-0.005671</td>\n      <td>-0.045599</td>\n      <td>-0.034194</td>\n      <td>-0.032356</td>\n      <td>-0.002592</td>\n      <td>0.002864</td>\n      <td>-0.025930</td>\n      <td>141.0</td>\n    </tr>\n    <tr>\n      <th>3</th>\n      <td>-0.089063</td>\n      <td>-0.044642</td>\n      <td>-0.011595</td>\n      <td>-0.036656</td>\n      <td>0.012191</td>\n      <td>0.024991</td>\n      <td>-0.036038</td>\n      <td>0.034309</td>\n      <td>0.022692</td>\n      <td>-0.009362</td>\n      <td>206.0</td>\n    </tr>\n    <tr>\n      <th>4</th>\n      <td>0.005383</td>\n      <td>-0.044642</td>\n      <td>-0.036385</td>\n      <td>0.021872</td>\n      <td>0.003935</td>\n      <td>0.015596</td>\n      <td>0.008142</td>\n      <td>-0.002592</td>\n      <td>-0.031991</td>\n      <td>-0.046641</td>\n      <td>135.0</td>\n    </tr>\n  </tbody>\n</table>\n</div>"
     },
     "execution_count": 15,
     "metadata": {},
     "output_type": "execute_result"
    }
   ],
   "source": [
    "df.head()"
   ],
   "metadata": {
    "collapsed": false,
    "pycharm": {
     "name": "#%%\n"
    }
   }
  },
  {
   "cell_type": "code",
   "execution_count": 16,
   "outputs": [
    {
     "data": {
      "text/plain": "                age           sex           bmi            bp            s1  \\\ncount  4.420000e+02  4.420000e+02  4.420000e+02  4.420000e+02  4.420000e+02   \nmean  -3.634285e-16  1.308343e-16 -8.045349e-16  1.281655e-16 -8.835316e-17   \nstd    4.761905e-02  4.761905e-02  4.761905e-02  4.761905e-02  4.761905e-02   \nmin   -1.072256e-01 -4.464164e-02 -9.027530e-02 -1.123996e-01 -1.267807e-01   \n25%   -3.729927e-02 -4.464164e-02 -3.422907e-02 -3.665645e-02 -3.424784e-02   \n50%    5.383060e-03 -4.464164e-02 -7.283766e-03 -5.670611e-03 -4.320866e-03   \n75%    3.807591e-02  5.068012e-02  3.124802e-02  3.564384e-02  2.835801e-02   \nmax    1.107267e-01  5.068012e-02  1.705552e-01  1.320442e-01  1.539137e-01   \n\n                 s2            s3            s4            s5            s6  \\\ncount  4.420000e+02  4.420000e+02  4.420000e+02  4.420000e+02  4.420000e+02   \nmean   1.327024e-16 -4.574646e-16  3.777301e-16 -3.830854e-16 -3.412882e-16   \nstd    4.761905e-02  4.761905e-02  4.761905e-02  4.761905e-02  4.761905e-02   \nmin   -1.156131e-01 -1.023071e-01 -7.639450e-02 -1.260974e-01 -1.377672e-01   \n25%   -3.035840e-02 -3.511716e-02 -3.949338e-02 -3.324879e-02 -3.317903e-02   \n50%   -3.819065e-03 -6.584468e-03 -2.592262e-03 -1.947634e-03 -1.077698e-03   \n75%    2.984439e-02  2.931150e-02  3.430886e-02  3.243323e-02  2.791705e-02   \nmax    1.987880e-01  1.811791e-01  1.852344e-01  1.335990e-01  1.356118e-01   \n\n           target  \ncount  442.000000  \nmean   152.133484  \nstd     77.093005  \nmin     25.000000  \n25%     87.000000  \n50%    140.500000  \n75%    211.500000  \nmax    346.000000  ",
      "text/html": "<div>\n<style scoped>\n    .dataframe tbody tr th:only-of-type {\n        vertical-align: middle;\n    }\n\n    .dataframe tbody tr th {\n        vertical-align: top;\n    }\n\n    .dataframe thead th {\n        text-align: right;\n    }\n</style>\n<table border=\"1\" class=\"dataframe\">\n  <thead>\n    <tr style=\"text-align: right;\">\n      <th></th>\n      <th>age</th>\n      <th>sex</th>\n      <th>bmi</th>\n      <th>bp</th>\n      <th>s1</th>\n      <th>s2</th>\n      <th>s3</th>\n      <th>s4</th>\n      <th>s5</th>\n      <th>s6</th>\n      <th>target</th>\n    </tr>\n  </thead>\n  <tbody>\n    <tr>\n      <th>count</th>\n      <td>4.420000e+02</td>\n      <td>4.420000e+02</td>\n      <td>4.420000e+02</td>\n      <td>4.420000e+02</td>\n      <td>4.420000e+02</td>\n      <td>4.420000e+02</td>\n      <td>4.420000e+02</td>\n      <td>4.420000e+02</td>\n      <td>4.420000e+02</td>\n      <td>4.420000e+02</td>\n      <td>442.000000</td>\n    </tr>\n    <tr>\n      <th>mean</th>\n      <td>-3.634285e-16</td>\n      <td>1.308343e-16</td>\n      <td>-8.045349e-16</td>\n      <td>1.281655e-16</td>\n      <td>-8.835316e-17</td>\n      <td>1.327024e-16</td>\n      <td>-4.574646e-16</td>\n      <td>3.777301e-16</td>\n      <td>-3.830854e-16</td>\n      <td>-3.412882e-16</td>\n      <td>152.133484</td>\n    </tr>\n    <tr>\n      <th>std</th>\n      <td>4.761905e-02</td>\n      <td>4.761905e-02</td>\n      <td>4.761905e-02</td>\n      <td>4.761905e-02</td>\n      <td>4.761905e-02</td>\n      <td>4.761905e-02</td>\n      <td>4.761905e-02</td>\n      <td>4.761905e-02</td>\n      <td>4.761905e-02</td>\n      <td>4.761905e-02</td>\n      <td>77.093005</td>\n    </tr>\n    <tr>\n      <th>min</th>\n      <td>-1.072256e-01</td>\n      <td>-4.464164e-02</td>\n      <td>-9.027530e-02</td>\n      <td>-1.123996e-01</td>\n      <td>-1.267807e-01</td>\n      <td>-1.156131e-01</td>\n      <td>-1.023071e-01</td>\n      <td>-7.639450e-02</td>\n      <td>-1.260974e-01</td>\n      <td>-1.377672e-01</td>\n      <td>25.000000</td>\n    </tr>\n    <tr>\n      <th>25%</th>\n      <td>-3.729927e-02</td>\n      <td>-4.464164e-02</td>\n      <td>-3.422907e-02</td>\n      <td>-3.665645e-02</td>\n      <td>-3.424784e-02</td>\n      <td>-3.035840e-02</td>\n      <td>-3.511716e-02</td>\n      <td>-3.949338e-02</td>\n      <td>-3.324879e-02</td>\n      <td>-3.317903e-02</td>\n      <td>87.000000</td>\n    </tr>\n    <tr>\n      <th>50%</th>\n      <td>5.383060e-03</td>\n      <td>-4.464164e-02</td>\n      <td>-7.283766e-03</td>\n      <td>-5.670611e-03</td>\n      <td>-4.320866e-03</td>\n      <td>-3.819065e-03</td>\n      <td>-6.584468e-03</td>\n      <td>-2.592262e-03</td>\n      <td>-1.947634e-03</td>\n      <td>-1.077698e-03</td>\n      <td>140.500000</td>\n    </tr>\n    <tr>\n      <th>75%</th>\n      <td>3.807591e-02</td>\n      <td>5.068012e-02</td>\n      <td>3.124802e-02</td>\n      <td>3.564384e-02</td>\n      <td>2.835801e-02</td>\n      <td>2.984439e-02</td>\n      <td>2.931150e-02</td>\n      <td>3.430886e-02</td>\n      <td>3.243323e-02</td>\n      <td>2.791705e-02</td>\n      <td>211.500000</td>\n    </tr>\n    <tr>\n      <th>max</th>\n      <td>1.107267e-01</td>\n      <td>5.068012e-02</td>\n      <td>1.705552e-01</td>\n      <td>1.320442e-01</td>\n      <td>1.539137e-01</td>\n      <td>1.987880e-01</td>\n      <td>1.811791e-01</td>\n      <td>1.852344e-01</td>\n      <td>1.335990e-01</td>\n      <td>1.356118e-01</td>\n      <td>346.000000</td>\n    </tr>\n  </tbody>\n</table>\n</div>"
     },
     "execution_count": 16,
     "metadata": {},
     "output_type": "execute_result"
    }
   ],
   "source": [
    "df.describe()"
   ],
   "metadata": {
    "collapsed": false,
    "pycharm": {
     "name": "#%%\n"
    }
   }
  },
  {
   "cell_type": "markdown",
   "source": [
    "## Preprocess data"
   ],
   "metadata": {
    "collapsed": false,
    "pycharm": {
     "name": "#%% md\n"
    }
   }
  },
  {
   "cell_type": "code",
   "execution_count": 17,
   "outputs": [],
   "source": [
    "# apply standardization to all but target column\n",
    "df.iloc[:, :-1] = df.iloc[:, :-1].apply(lambda x: standardize(x), axis=0)"
   ],
   "metadata": {
    "collapsed": false,
    "pycharm": {
     "name": "#%%\n"
    }
   }
  },
  {
   "cell_type": "code",
   "execution_count": 18,
   "outputs": [
    {
     "data": {
      "text/plain": "                age           sex           bmi            bp            s1  \\\ncount  4.420000e+02  4.420000e+02  4.420000e+02  4.420000e+02  4.420000e+02   \nmean  -9.544904e-18 -8.389468e-17  2.411344e-17  2.059690e-17 -5.927888e-17   \nstd    1.001133e+00  1.001133e+00  1.001133e+00  1.001133e+00  1.001133e+00   \nmin   -2.254290e+00 -9.385367e-01 -1.897929e+00 -2.363066e+00 -2.665411e+00   \n25%   -7.841722e-01 -9.385367e-01 -7.196249e-01 -7.706577e-01 -7.200196e-01   \n50%    1.131724e-01 -9.385367e-01 -1.531324e-01 -1.192178e-01 -9.084100e-02   \n75%    8.005001e-01  1.065488e+00  6.569519e-01  7.493688e-01  5.961931e-01   \nmax    2.327895e+00  1.065488e+00  3.585718e+00  2.776071e+00  3.235851e+00   \n\n                 s2            s3            s4            s5            s6  \\\ncount  4.420000e+02  4.420000e+02  4.420000e+02  4.420000e+02  4.420000e+02   \nmean  -5.450642e-17  5.325052e-17  2.717786e-16  2.951385e-18 -2.025152e-17   \nstd    1.001133e+00  1.001133e+00  1.001133e+00  1.001133e+00  1.001133e+00   \nmin   -2.430626e+00 -2.150883e+00 -1.606102e+00 -2.651046e+00 -2.896390e+00   \n25%   -6.382488e-01 -7.382960e-01 -8.303008e-01 -6.990157e-01 -6.975491e-01   \n50%   -8.029125e-02 -1.384305e-01 -5.449919e-02 -4.094666e-02 -2.265729e-02   \n75%    6.274425e-01  6.162390e-01  7.213025e-01  6.818695e-01  5.869224e-01   \nmax    4.179278e+00  3.809072e+00  3.894331e+00  2.808758e+00  2.851075e+00   \n\n           target  \ncount  442.000000  \nmean   152.133484  \nstd     77.093005  \nmin     25.000000  \n25%     87.000000  \n50%    140.500000  \n75%    211.500000  \nmax    346.000000  ",
      "text/html": "<div>\n<style scoped>\n    .dataframe tbody tr th:only-of-type {\n        vertical-align: middle;\n    }\n\n    .dataframe tbody tr th {\n        vertical-align: top;\n    }\n\n    .dataframe thead th {\n        text-align: right;\n    }\n</style>\n<table border=\"1\" class=\"dataframe\">\n  <thead>\n    <tr style=\"text-align: right;\">\n      <th></th>\n      <th>age</th>\n      <th>sex</th>\n      <th>bmi</th>\n      <th>bp</th>\n      <th>s1</th>\n      <th>s2</th>\n      <th>s3</th>\n      <th>s4</th>\n      <th>s5</th>\n      <th>s6</th>\n      <th>target</th>\n    </tr>\n  </thead>\n  <tbody>\n    <tr>\n      <th>count</th>\n      <td>4.420000e+02</td>\n      <td>4.420000e+02</td>\n      <td>4.420000e+02</td>\n      <td>4.420000e+02</td>\n      <td>4.420000e+02</td>\n      <td>4.420000e+02</td>\n      <td>4.420000e+02</td>\n      <td>4.420000e+02</td>\n      <td>4.420000e+02</td>\n      <td>4.420000e+02</td>\n      <td>442.000000</td>\n    </tr>\n    <tr>\n      <th>mean</th>\n      <td>-9.544904e-18</td>\n      <td>-8.389468e-17</td>\n      <td>2.411344e-17</td>\n      <td>2.059690e-17</td>\n      <td>-5.927888e-17</td>\n      <td>-5.450642e-17</td>\n      <td>5.325052e-17</td>\n      <td>2.717786e-16</td>\n      <td>2.951385e-18</td>\n      <td>-2.025152e-17</td>\n      <td>152.133484</td>\n    </tr>\n    <tr>\n      <th>std</th>\n      <td>1.001133e+00</td>\n      <td>1.001133e+00</td>\n      <td>1.001133e+00</td>\n      <td>1.001133e+00</td>\n      <td>1.001133e+00</td>\n      <td>1.001133e+00</td>\n      <td>1.001133e+00</td>\n      <td>1.001133e+00</td>\n      <td>1.001133e+00</td>\n      <td>1.001133e+00</td>\n      <td>77.093005</td>\n    </tr>\n    <tr>\n      <th>min</th>\n      <td>-2.254290e+00</td>\n      <td>-9.385367e-01</td>\n      <td>-1.897929e+00</td>\n      <td>-2.363066e+00</td>\n      <td>-2.665411e+00</td>\n      <td>-2.430626e+00</td>\n      <td>-2.150883e+00</td>\n      <td>-1.606102e+00</td>\n      <td>-2.651046e+00</td>\n      <td>-2.896390e+00</td>\n      <td>25.000000</td>\n    </tr>\n    <tr>\n      <th>25%</th>\n      <td>-7.841722e-01</td>\n      <td>-9.385367e-01</td>\n      <td>-7.196249e-01</td>\n      <td>-7.706577e-01</td>\n      <td>-7.200196e-01</td>\n      <td>-6.382488e-01</td>\n      <td>-7.382960e-01</td>\n      <td>-8.303008e-01</td>\n      <td>-6.990157e-01</td>\n      <td>-6.975491e-01</td>\n      <td>87.000000</td>\n    </tr>\n    <tr>\n      <th>50%</th>\n      <td>1.131724e-01</td>\n      <td>-9.385367e-01</td>\n      <td>-1.531324e-01</td>\n      <td>-1.192178e-01</td>\n      <td>-9.084100e-02</td>\n      <td>-8.029125e-02</td>\n      <td>-1.384305e-01</td>\n      <td>-5.449919e-02</td>\n      <td>-4.094666e-02</td>\n      <td>-2.265729e-02</td>\n      <td>140.500000</td>\n    </tr>\n    <tr>\n      <th>75%</th>\n      <td>8.005001e-01</td>\n      <td>1.065488e+00</td>\n      <td>6.569519e-01</td>\n      <td>7.493688e-01</td>\n      <td>5.961931e-01</td>\n      <td>6.274425e-01</td>\n      <td>6.162390e-01</td>\n      <td>7.213025e-01</td>\n      <td>6.818695e-01</td>\n      <td>5.869224e-01</td>\n      <td>211.500000</td>\n    </tr>\n    <tr>\n      <th>max</th>\n      <td>2.327895e+00</td>\n      <td>1.065488e+00</td>\n      <td>3.585718e+00</td>\n      <td>2.776071e+00</td>\n      <td>3.235851e+00</td>\n      <td>4.179278e+00</td>\n      <td>3.809072e+00</td>\n      <td>3.894331e+00</td>\n      <td>2.808758e+00</td>\n      <td>2.851075e+00</td>\n      <td>346.000000</td>\n    </tr>\n  </tbody>\n</table>\n</div>"
     },
     "execution_count": 18,
     "metadata": {},
     "output_type": "execute_result"
    }
   ],
   "source": [
    "df.describe()"
   ],
   "metadata": {
    "collapsed": false,
    "pycharm": {
     "name": "#%%\n"
    }
   }
  },
  {
   "cell_type": "code",
   "execution_count": 19,
   "outputs": [
    {
     "data": {
      "text/plain": "        age       sex       bmi        bp        s1        s2        s3  \\\n0  0.800500  1.065488  1.297088  0.459840 -0.929746 -0.732065 -0.912451   \n1 -0.039567 -0.938537 -1.082180 -0.553511 -0.177624 -0.402886  1.564414   \n2  1.793307  1.065488  0.934533 -0.119218 -0.958674 -0.718897 -0.680245   \n3 -1.872441 -0.938537 -0.243771 -0.770658  0.256292  0.525397 -0.757647   \n4  0.113172 -0.938537 -0.764944  0.459840  0.082726  0.327890  0.171178   \n\n         s4        s5        s6  target  \n0 -0.054499  0.418551 -0.370989   151.0  \n1 -0.830301 -1.436551 -1.938479    75.0  \n2 -0.054499  0.060207 -0.545154   141.0  \n3  0.721302  0.477072 -0.196823   206.0  \n4 -0.054499 -0.672582 -0.980568   135.0  ",
      "text/html": "<div>\n<style scoped>\n    .dataframe tbody tr th:only-of-type {\n        vertical-align: middle;\n    }\n\n    .dataframe tbody tr th {\n        vertical-align: top;\n    }\n\n    .dataframe thead th {\n        text-align: right;\n    }\n</style>\n<table border=\"1\" class=\"dataframe\">\n  <thead>\n    <tr style=\"text-align: right;\">\n      <th></th>\n      <th>age</th>\n      <th>sex</th>\n      <th>bmi</th>\n      <th>bp</th>\n      <th>s1</th>\n      <th>s2</th>\n      <th>s3</th>\n      <th>s4</th>\n      <th>s5</th>\n      <th>s6</th>\n      <th>target</th>\n    </tr>\n  </thead>\n  <tbody>\n    <tr>\n      <th>0</th>\n      <td>0.800500</td>\n      <td>1.065488</td>\n      <td>1.297088</td>\n      <td>0.459840</td>\n      <td>-0.929746</td>\n      <td>-0.732065</td>\n      <td>-0.912451</td>\n      <td>-0.054499</td>\n      <td>0.418551</td>\n      <td>-0.370989</td>\n      <td>151.0</td>\n    </tr>\n    <tr>\n      <th>1</th>\n      <td>-0.039567</td>\n      <td>-0.938537</td>\n      <td>-1.082180</td>\n      <td>-0.553511</td>\n      <td>-0.177624</td>\n      <td>-0.402886</td>\n      <td>1.564414</td>\n      <td>-0.830301</td>\n      <td>-1.436551</td>\n      <td>-1.938479</td>\n      <td>75.0</td>\n    </tr>\n    <tr>\n      <th>2</th>\n      <td>1.793307</td>\n      <td>1.065488</td>\n      <td>0.934533</td>\n      <td>-0.119218</td>\n      <td>-0.958674</td>\n      <td>-0.718897</td>\n      <td>-0.680245</td>\n      <td>-0.054499</td>\n      <td>0.060207</td>\n      <td>-0.545154</td>\n      <td>141.0</td>\n    </tr>\n    <tr>\n      <th>3</th>\n      <td>-1.872441</td>\n      <td>-0.938537</td>\n      <td>-0.243771</td>\n      <td>-0.770658</td>\n      <td>0.256292</td>\n      <td>0.525397</td>\n      <td>-0.757647</td>\n      <td>0.721302</td>\n      <td>0.477072</td>\n      <td>-0.196823</td>\n      <td>206.0</td>\n    </tr>\n    <tr>\n      <th>4</th>\n      <td>0.113172</td>\n      <td>-0.938537</td>\n      <td>-0.764944</td>\n      <td>0.459840</td>\n      <td>0.082726</td>\n      <td>0.327890</td>\n      <td>0.171178</td>\n      <td>-0.054499</td>\n      <td>-0.672582</td>\n      <td>-0.980568</td>\n      <td>135.0</td>\n    </tr>\n  </tbody>\n</table>\n</div>"
     },
     "execution_count": 19,
     "metadata": {},
     "output_type": "execute_result"
    }
   ],
   "source": [
    "df.head()"
   ],
   "metadata": {
    "collapsed": false,
    "pycharm": {
     "name": "#%%\n"
    }
   }
  },
  {
   "cell_type": "code",
   "execution_count": 20,
   "outputs": [],
   "source": [
    "df.to_csv('data/diabetes.csv', index=False)"
   ],
   "metadata": {
    "collapsed": false,
    "pycharm": {
     "name": "#%%\n"
    }
   }
  }
 ],
 "metadata": {
  "kernelspec": {
   "display_name": "Python 3",
   "language": "python",
   "name": "python3"
  },
  "language_info": {
   "codemirror_mode": {
    "name": "ipython",
    "version": 2
   },
   "file_extension": ".py",
   "mimetype": "text/x-python",
   "name": "python",
   "nbconvert_exporter": "python",
   "pygments_lexer": "ipython2",
   "version": "2.7.6"
  }
 },
 "nbformat": 4,
 "nbformat_minor": 0
}